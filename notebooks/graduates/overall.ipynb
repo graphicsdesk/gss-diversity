{
 "cells": [
  {
   "cell_type": "code",
   "execution_count": 1,
   "metadata": {},
   "outputs": [],
   "source": [
    "import pickle\n",
    "import matplotlib.pyplot as plt"
   ]
  },
  {
   "cell_type": "code",
   "execution_count": 3,
   "metadata": {},
   "outputs": [
    {
     "name": "stdout",
     "output_type": "stream",
     "text": [
      "Data set describes years 1994 - 2016 for the following institutions: ['Brown University', 'Columbia University in the City of New York', 'Cornell University', 'Dartmouth College', 'Duke University', 'Harvard University', 'Massachusetts Institute of Technology', 'Princeton University', 'Stanford University', 'University of Pennsylvania', 'Yale University'].\n"
     ]
    }
   ],
   "source": [
    "TOTALS = pickle.load(open('../../data/Sex_Graduates.p', 'rb'))\n",
    "FIELD_TOTALS = pickle.load(open('../../data/Detailed_Sex_RaceEthnicity_Graduates.p', 'rb'))\n",
    "\n",
    "years = sorted(FIELD_TOTALS.keys())\n",
    "institutions = sorted(FIELD_TOTALS[ max(years) ].keys())\n",
    "fields = sorted(FIELD_TOTALS[ max(years) ]['Columbia University in the City of New York'].keys())\n",
    "\n",
    "print(f'Data set describes years {min(years)} - {max(years)} for the following institutions: {institutions}.')"
   ]
  },
  {
   "cell_type": "code",
   "execution_count": 9,
   "metadata": {},
   "outputs": [],
   "source": [
    "def get_field_props(field, inst='Columbia University in the City of New York'):\n",
    "    proportions = []\n",
    "    for year in years:\n",
    "        field_stats = FIELD_TOTALS[year][inst].get(field, None)\n",
    "        if field_stats is None:\n",
    "            proportions.append(None)\n",
    "        else:\n",
    "            fem_count = field_stats.get('Female', 0)\n",
    "            if isinstance(fem_count, dict):\n",
    "                fem_count = fem_count['Total for selected values']\n",
    "                \n",
    "            proportions.append(\n",
    "                fem_count /\n",
    "                    field_stats['Total for selected values']['Total for selected values']\n",
    "            )\n",
    "    return proportions\n",
    "\n",
    "def get_inst_props(inst='Columbia University in the City of New York'):\n",
    "    props = []\n",
    "    for year in years:\n",
    "        inst_data = TOTALS[year][inst]\n",
    "        props.append(inst_data['Female'] / inst_data['Total for selected values'])\n",
    "    return props"
   ]
  },
  {
   "cell_type": "code",
   "execution_count": null,
   "metadata": {},
   "outputs": [
    {
     "data": {
      "text/plain": [
       "(0, 1)"
      ]
     },
     "execution_count": 13,
     "metadata": {},
     "output_type": "execute_result"
    }
   ],
   "source": [
    "plt.figure(figsize=(12, 12))\n",
    "\n",
    "for field in fields:\n",
    "    plt.plot(years, get_field_props(field))\n",
    "plt.plot(years, get_inst_props(), linewidth=3, color='black')\n",
    "\n",
    "plt.ylim(bottom=0, top=1)"
   ]
  }
 ],
 "metadata": {
  "kernelspec": {
   "display_name": "Python 3",
   "language": "python",
   "name": "python3"
  },
  "language_info": {
   "codemirror_mode": {
    "name": "ipython",
    "version": 3
   },
   "file_extension": ".py",
   "mimetype": "text/x-python",
   "name": "python",
   "nbconvert_exporter": "python",
   "pygments_lexer": "ipython3",
   "version": "3.7.0"
  }
 },
 "nbformat": 4,
 "nbformat_minor": 2
}

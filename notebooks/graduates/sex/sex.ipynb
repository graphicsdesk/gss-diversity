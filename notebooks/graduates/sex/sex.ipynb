{
 "cells": [
  {
   "cell_type": "markdown",
   "metadata": {},
   "source": [
    "# Guiding questions\n",
    "\n",
    "At Columbia University, how does gender diversity compare to other institutions?"
   ]
  },
  {
   "cell_type": "code",
   "execution_count": 3,
   "metadata": {},
   "outputs": [],
   "source": [
    "import pickle\n",
    "import pandas as pd\n",
    "import numpy as np\n",
    "import matplotlib.pyplot as plt"
   ]
  },
  {
   "cell_type": "code",
   "execution_count": 5,
   "metadata": {},
   "outputs": [
    {
     "name": "stdout",
     "output_type": "stream",
     "text": [
      "Data set describes years 1994 - 2016 for the following institutions: ['Brown University', 'Columbia University in the City of New York', 'Cornell University', 'Dartmouth College', 'Duke University', 'Harvard University', 'Massachusetts Institute of Technology', 'Princeton University', 'Stanford University', 'University of Pennsylvania', 'Yale University'].\n"
     ]
    }
   ],
   "source": [
    "TOTALS = pickle.load(open('../../../data/Broad_Sex_RaceEthnicity_Graduates.p', 'rb'))\n",
    "\n",
    "years = sorted(TOTALS.keys())\n",
    "institutions = sorted(TOTALS[ max(years) ].keys())\n",
    "fields = sorted(TOTALS[ max(years) ]['Columbia University in the City of New York'].keys())\n",
    "\n",
    "print(f'Data set describes years {min(years)} - {max(years)} for the following institutions: {institutions}.')"
   ]
  },
  {
   "cell_type": "code",
   "execution_count": null,
   "metadata": {},
   "outputs": [],
   "source": [
    "# Convenient function for making subplots for every institution\n",
    "def subplots(num=len(institutions)):\n",
    "    cols = 2\n",
    "    rows = math.ceil(num / 2)\n",
    "    return plt.subplots(rows, cols, figsize=(10 * cols, 10 * rows))\n",
    "\n",
    "def get_proportions(inst, field):\n",
    "    proportions = []\n",
    "    for year in years:\n",
    "        field_stats = TOTALS[year][inst].get(field, None)\n",
    "        if field_stats is None:\n",
    "            proportions.append(None)\n",
    "        else:\n",
    "            fem_count = field_stats.get('Female', 0)\n",
    "            if isinstance(fem_count, dict):\n",
    "                fem_count = fem_count['Total for selected values']\n",
    "                \n",
    "            proportions.append(\n",
    "                fem_count /\n",
    "                    field_stats['Total for selected values']['Total for selected values']\n",
    "            )\n",
    "    return proportions\n",
    "\n",
    "def compare_field_subplots(field):\n",
    "    fig, axArr = subplots()\n",
    "    for i, inst in enumerate(institutions):\n",
    "        ax = axArr[i // 2, i % 2]\n",
    "        plot_field(ax, inst, field)\n",
    "    fig.suptitle(f'{field}')\n",
    "    fig.tight_layout()\n",
    "\n",
    "def plot_inst(ax, field, highlight='Columbia University in the City of New York'):\n",
    "    for inst in institutions:\n",
    "        if inst == highlight:\n",
    "            continue\n",
    "        ax.plot(years, get_proportions(inst, field), label=inst)\n",
    "    ax.plot(years, get_proportions(highlight, field), label=highlight, linewidth=3, color='black')\n",
    "    \n",
    "    ax.set_ylabel('% female')\n",
    "    ax.legend()\n",
    "    ax.set_ylim(top=1, bottom=0)\n",
    "    ax.set_title(field)\n",
    "    \n",
    "    # Format y tick labels to be percentages\n",
    "    vals = ax.get_yticks()\n",
    "    ax.set_yticklabels(['{:,.0%}'.format(x) for x in vals])"
   ]
  }
 ],
 "metadata": {
  "kernelspec": {
   "display_name": "Python 3",
   "language": "python",
   "name": "python3"
  },
  "language_info": {
   "codemirror_mode": {
    "name": "ipython",
    "version": 3
   },
   "file_extension": ".py",
   "mimetype": "text/x-python",
   "name": "python",
   "nbconvert_exporter": "python",
   "pygments_lexer": "ipython3",
   "version": "3.7.0"
  }
 },
 "nbformat": 4,
 "nbformat_minor": 2
}

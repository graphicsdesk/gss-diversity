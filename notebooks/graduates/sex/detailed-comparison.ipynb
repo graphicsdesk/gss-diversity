{
 "cells": [
  {
   "cell_type": "markdown",
   "metadata": {},
   "source": [
    "# Guiding questions\n",
    "\n",
    "How does graduate student gender diversity at Columbia compare to its peer institutions?"
   ]
  },
  {
   "cell_type": "code",
   "execution_count": 34,
   "metadata": {},
   "outputs": [],
   "source": [
    "from collections import defaultdict\n",
    "import math\n",
    "import pickle\n",
    "import pandas as pd\n",
    "import numpy as np\n",
    "import matplotlib.pyplot as plt"
   ]
  },
  {
   "cell_type": "code",
   "execution_count": 35,
   "metadata": {},
   "outputs": [
    {
     "name": "stdout",
     "output_type": "stream",
     "text": [
      "Data set describes years 1994 - 2016 for the following institutions: ['Brown University', 'Columbia University in the City of New York', 'Cornell University', 'Dartmouth College', 'Duke University', 'Harvard University', 'Massachusetts Institute of Technology', 'Princeton University', 'Stanford University', 'University of Pennsylvania', 'Yale University'].\n"
     ]
    }
   ],
   "source": [
    "TOTALS = pickle.load(open('../../../data/Detailed_Sex_RaceEthnicity_Graduates.p', 'rb'))\n",
    "\n",
    "years = sorted(TOTALS.keys())\n",
    "institutions = sorted(TOTALS[ max(years) ].keys())\n",
    "fields = sorted(TOTALS[ max(years) ]['Columbia University in the City of New York'].keys())\n",
    "\n",
    "print(f'Data set describes years {min(years)} - {max(years)} for the following institutions: {institutions}.')"
   ]
  },
  {
   "cell_type": "code",
   "execution_count": 38,
   "metadata": {},
   "outputs": [],
   "source": [
    "# Convenient function for making subplots for every institution\n",
    "def subplots(num=len(institutions), cols=2, figsize=8):\n",
    "    rows = math.ceil(num / cols)\n",
    "    return plt.subplots(rows, cols, figsize=(figsize * cols, figsize * rows))\n",
    "\n",
    "# Returns female proportions for an institution in a field\n",
    "def get_proportions(inst, field):\n",
    "    proportions = []\n",
    "    for year in years:\n",
    "        field_stats = TOTALS[year][inst].get(field, None)\n",
    "        if field_stats is None:\n",
    "            proportions.append(None)\n",
    "        else:\n",
    "            fem_count = field_stats.get('Female', 0)\n",
    "            if isinstance(fem_count, dict):\n",
    "                fem_count = fem_count['Total for selected values']\n",
    "                \n",
    "            proportions.append(\n",
    "                fem_count /\n",
    "                    field_stats['Total for selected values']['Total for selected values']\n",
    "            )\n",
    "    return proportions\n",
    "\n",
    "# Plots female proportions for every institution for a field, highlighting one, in a line graph\n",
    "def plot_inst(ax, field, highlight='Columbia University in the City of New York'):\n",
    "    for inst in institutions:\n",
    "        if inst == highlight:\n",
    "            continue\n",
    "        ax.plot(years, get_proportions(inst, field), label=inst)\n",
    "    ax.plot(years, get_proportions(highlight, field), label=highlight, linewidth=3, color='black')\n",
    "    \n",
    "    ax.set_ylabel('Percent female')\n",
    "    ax.legend()\n",
    "    ax.set_ylim(top=1, bottom=0)\n",
    "    ax.set_title(f'{field}: Comparing Columbia\\'s peers')\n",
    "    \n",
    "    # Format y tick labels to be percentages\n",
    "    vals = ax.get_yticks()\n",
    "    ax.set_yticklabels(['{:,.0%}'.format(x) for x in vals])\n",
    "\n",
    "# Returns female and male headcounts for a field in an institution\n",
    "def get_counts(field, inst):\n",
    "    females = []\n",
    "    males = []\n",
    "    for year in years:\n",
    "        stats = TOTALS[year][inst].get(field, None)\n",
    "        if stats is None:\n",
    "            females.append(None)\n",
    "            males.append(None)\n",
    "            continue\n",
    "        females.append(stats['Female']['Total for selected values'])\n",
    "        males.append(stats['Male']['Total for selected values'])\n",
    "    return females, males\n",
    "\n",
    "# Plots a female and male headcounts line graph for a field in an institution\n",
    "def plot_counts(ax, field, inst='Columbia University in the City of New York'):\n",
    "    females, males = get_counts(field, inst)\n",
    "    ax.plot(years, females, label='Female')\n",
    "    ax.plot(years, males, label='Male')\n",
    "    ax.legend()\n",
    "    ax.set_title(f'{field}: Columbia\\'s headcounts by sex')\n",
    "    ax.set_ylabel('Number of people')\n",
    "\n",
    "# Plots a female vs. male connected scatter plot\n",
    "def plot_connected(ax, field, inst='Columbia University in the City of New York'):\n",
    "    females, males = get_counts(field, inst)\n",
    "    ax.plot(females, males, color='lightgray')\n",
    "    ax.scatter(females, males, c=[i for i in range(len(males))], cmap='viridis')\n",
    "    \n",
    "    for i in [0, -1]:\n",
    "        ax.annotate(years[i], (females[i], males[i]))\n",
    "    \n",
    "    _, ymax = ax.get_ylim()\n",
    "    _, xmax = ax.get_xlim()\n",
    "    top = max(ymax, xmax)\n",
    "    \n",
    "    ax.set_ylim(bottom=0, top=top)\n",
    "    ax.set_xlim(left=0, right=top)\n",
    "    \n",
    "    ax.plot([0, 1000], [0, 1000], color='gray', linestyle='--')\n",
    "\n",
    "    ax.set_title(f'{field}: Columbia, men vs. women')\n",
    "    ax.set_xlabel('Number of women')\n",
    "    ax.set_ylabel('Number of men')\n",
    "\n",
    "# Plots three specified plots for a field in a row of a subplots array\n",
    "def plot_triplet(axArr, index, field):\n",
    "    plot_inst(axArr[i, 0], field)\n",
    "    plot_counts(axArr[i, 1], field)\n",
    "    plot_connected(axArr[i, 2], field)\n",
    "\n",
    "# Plots triplets for every institution\n",
    "def plot_all():\n",
    "    fig, axArr = subplots(len(fields)*3, cols=3)\n",
    "    for i, field in enumerate(fields):\n",
    "        plot_triplet(axArr, i, field)\n",
    "    fig.tight_layout()"
   ]
  },
  {
   "cell_type": "code",
   "execution_count": null,
   "metadata": {
    "scrolled": false
   },
   "outputs": [],
   "source": [
    "selected_fields = [\n",
    "    'Civil engineering',\n",
    "    'Computer sciences',\n",
    "    'Electrical engineering',\n",
    "    'Engineering science, mechanics, and physics',\n",
    "    'Mechanical engineering',\n",
    "    'Physics',\n",
    "]\n",
    "\n",
    "fig, axArr = subplots(len(selected_fields)*3, cols=3)\n",
    "for i, field in enumerate(selected_fields):\n",
    "    plot_triplet(axArr, i, field)\n",
    "fig.tight_layout()\n",
    "\n",
    "fig.savefig('../../../img/graduates_sex_detailed_comparison_triplet.png')"
   ]
  }
 ],
 "metadata": {
  "kernelspec": {
   "display_name": "Python 3",
   "language": "python",
   "name": "python3"
  },
  "language_info": {
   "codemirror_mode": {
    "name": "ipython",
    "version": 3
   },
   "file_extension": ".py",
   "mimetype": "text/x-python",
   "name": "python",
   "nbconvert_exporter": "python",
   "pygments_lexer": "ipython3",
   "version": "3.7.0"
  }
 },
 "nbformat": 4,
 "nbformat_minor": 2
}

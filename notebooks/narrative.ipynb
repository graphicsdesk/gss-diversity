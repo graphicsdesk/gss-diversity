{
 "cells": [
  {
   "cell_type": "markdown",
   "metadata": {},
   "source": [
    "Writing the narrative."
   ]
  },
  {
   "cell_type": "code",
   "execution_count": 1,
   "metadata": {},
   "outputs": [],
   "source": [
    "import pickle\n",
    "import numpy as np\n",
    "import matplotlib.pyplot as plt"
   ]
  },
  {
   "cell_type": "code",
   "execution_count": 2,
   "metadata": {},
   "outputs": [
    {
     "name": "stdout",
     "output_type": "stream",
     "text": [
      "Data set describes years 1994 - 2016 for the following institutions: ['Brown University', 'Columbia University in the City of New York', 'Cornell University', 'Dartmouth College', 'Duke University', 'Harvard University', 'Massachusetts Institute of Technology', 'Princeton University', 'Stanford University', 'University of Pennsylvania', 'Yale University'].\n"
     ]
    }
   ],
   "source": [
    "TOTALS = pickle.load(open('../data/Detailed_Sex_RaceEthnicity_Graduates.p', 'rb'))\n",
    "\n",
    "years = sorted(TOTALS.keys())\n",
    "institutions = sorted(TOTALS[ max(years) ].keys())\n",
    "fields = sorted(TOTALS[ max(years) ]['Columbia University in the City of New York'].keys())\n",
    "\n",
    "print(f'Data set describes years {min(years)} - {max(years)} for the following institutions: {institutions}.')"
   ]
  },
  {
   "cell_type": "code",
   "execution_count": null,
   "metadata": {},
   "outputs": [],
   "source": [
    "# Convenient function for making subplots for every institution\n",
    "def subplots(num=len(institutions), cols=2, figsize=8):\n",
    "    rows = math.ceil(num / cols)\n",
    "    return plt.subplots(rows, cols, figsize=(figsize * cols, figsize * rows))"
   ]
  }
 ],
 "metadata": {
  "kernelspec": {
   "display_name": "Python 3",
   "language": "python",
   "name": "python3"
  },
  "language_info": {
   "codemirror_mode": {
    "name": "ipython",
    "version": 3
   },
   "file_extension": ".py",
   "mimetype": "text/x-python",
   "name": "python",
   "nbconvert_exporter": "python",
   "pygments_lexer": "ipython3",
   "version": "3.7.0"
  }
 },
 "nbformat": 4,
 "nbformat_minor": 2
}

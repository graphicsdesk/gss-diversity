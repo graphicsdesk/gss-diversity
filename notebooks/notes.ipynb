{
 "cells": [
  {
   "cell_type": "markdown",
   "metadata": {},
   "source": [
    "For writing the narrative and exporting data."
   ]
  },
  {
   "cell_type": "code",
   "execution_count": 39,
   "metadata": {},
   "outputs": [
    {
     "name": "stdout",
     "output_type": "stream",
     "text": [
      "11 institutions and 39 fields.\n"
     ]
    }
   ],
   "source": [
    "import pickle\n",
    "import math\n",
    "import json\n",
    "import numpy as np\n",
    "import matplotlib.pyplot as plt\n",
    "\n",
    "CUNAME = 'Columbia University in the City of New York'\n",
    "\n",
    "S_TOTALS = pickle.load(open('../data/S_Sex_Graduates.p', 'rb'))\n",
    "E_TOTALS = pickle.load(open('../data/E_Sex_Graduates.p', 'rb'))\n",
    "D_TOTALS = pickle.load(open('../data/SE-Detailed_Sex.p', 'rb'))\n",
    "\n",
    "TOTALS = {\n",
    "    'Science': S_TOTALS,\n",
    "    'Engineering': E_TOTALS,\n",
    "}\n",
    "\n",
    "years = sorted(S_TOTALS.keys())\n",
    "institutions = sorted(S_TOTALS[ max(years) ].keys())\n",
    "fields = {\n",
    "    'Science': set(),\n",
    "    'Engineering': set()\n",
    "}\n",
    "for year in years:\n",
    "    inst_stats = D_TOTALS[year]['Columbia University in the City of New York']\n",
    "    for seh in inst_stats.keys():\n",
    "        for field in inst_stats[seh].keys():\n",
    "            fields[seh].add(field)\n",
    "fields['Science'] = sorted(fields['Science'])\n",
    "fields['Engineering'] = sorted(fields['Engineering'])\n",
    "\n",
    "print(f'{len(institutions)} institutions and {len(fields[\"Science\"]) + len(fields[\"Engineering\"])} fields.')"
   ]
  },
  {
   "cell_type": "code",
   "execution_count": 40,
   "metadata": {},
   "outputs": [
    {
     "name": "stdout",
     "output_type": "stream",
     "text": [
      "19 complete fields.\n"
     ]
    }
   ],
   "source": [
    "# Returns female and male headcounts for a field in an institution\n",
    "def get_counts(seh, field, inst='Columbia University in the City of New York', default=None):\n",
    "    females = []\n",
    "    males = []\n",
    "    for year in years:\n",
    "        stats = D_TOTALS[year][inst][seh].get(field, None)\n",
    "        if stats is None:\n",
    "            females.append(default)\n",
    "            males.append(default)\n",
    "            continue\n",
    "        females.append(stats.get('Female', 0))\n",
    "        males.append(stats.get('Male', 0))\n",
    "    return females, males\n",
    "\n",
    "complete_fields = {\n",
    "    'Science': [],\n",
    "    'Engineering': [],\n",
    "}\n",
    "topic_lookup = {}\n",
    "for topic in complete_fields.keys():\n",
    "    for field in fields[topic]:\n",
    "        females, males = get_counts(topic, field)\n",
    "        if None not in females and None not in males:\n",
    "            complete_fields[topic].append(field)\n",
    "        topic_lookup[field] = topic\n",
    "print(f'{len(complete_fields[\"Science\"]) + len(complete_fields[\"Engineering\"])} complete fields.')"
   ]
  },
  {
   "cell_type": "code",
   "execution_count": 46,
   "metadata": {},
   "outputs": [],
   "source": [
    "# Gets female and male headcounts for a field\n",
    "def get_counts(field, inst='Columbia University in the City of New York', default=None):\n",
    "    females = []\n",
    "    males = []\n",
    "    topic = topic_lookup[field]\n",
    "    for year in years:\n",
    "        stats = D_TOTALS[year][inst][topic].get(field, None)\n",
    "        if stats is None:\n",
    "            females.append(default)\n",
    "            males.append(default)\n",
    "            continue\n",
    "        females.append(stats.get('Female', 0))\n",
    "        males.append(stats.get('Male', 0))\n",
    "    return females, males\n",
    "\n",
    "# Gets counts from a totals dictionary\n",
    "def get_total_counts(topic, inst='Columbia University in the City of New York', default=None):\n",
    "    totals = TOTALS[topic]\n",
    "    females = []\n",
    "    males = []\n",
    "    for year in years:\n",
    "        stats = totals[year].get(inst, None)\n",
    "        if stats is None:\n",
    "            females.append(None)\n",
    "            males.append(None)\n",
    "        else:\n",
    "            females.append(int(stats['Female']))\n",
    "            males.append(int(stats['Male']))\n",
    "    return females, males\n",
    "\n",
    "# Manually calculates totals by adding together the counts of all fields, where holes are defaulted to 0\n",
    "def get_summed_counts(topic):\n",
    "    females = [0 for _ in range(len(years))]\n",
    "    males = [0 for _ in range(len(years))]\n",
    "    counts = {field: get_counts(field, default=0) for field in fields[topic]}\n",
    "\n",
    "    for field in fields[topic]:\n",
    "        f, m = counts[field]\n",
    "        for i in range(len(years)):\n",
    "            females[i] += f[i]\n",
    "            males[i] += m[i]\n",
    "    return females, males\n",
    "\n",
    "# Verifies that get_summed_counts matches the totals dictionary\n",
    "def verify_sums(topic):\n",
    "    totalF, totalM = get_total_counts('Science')\n",
    "    summedF, summedM = get_summed_counts('Science')\n",
    "    return totalF == summedF and totalM == summedM"
   ]
  },
  {
   "cell_type": "code",
   "execution_count": 47,
   "metadata": {},
   "outputs": [
    {
     "data": {
      "text/plain": [
       "True"
      ]
     },
     "execution_count": 47,
     "metadata": {},
     "output_type": "execute_result"
    }
   ],
   "source": [
    "verify_sums('Science') and verify_sums('Engineering')"
   ]
  },
  {
   "cell_type": "markdown",
   "metadata": {},
   "source": [
    "Therefore, GSS is not imputing the data for years that Columbia does not report, effectively filling in holes with 0."
   ]
  }
 ],
 "metadata": {
  "kernelspec": {
   "display_name": "Python 3",
   "language": "python",
   "name": "python3"
  },
  "language_info": {
   "codemirror_mode": {
    "name": "ipython",
    "version": 3
   },
   "file_extension": ".py",
   "mimetype": "text/x-python",
   "name": "python",
   "nbconvert_exporter": "python",
   "pygments_lexer": "ipython3",
   "version": "3.7.0"
  }
 },
 "nbformat": 4,
 "nbformat_minor": 2
}

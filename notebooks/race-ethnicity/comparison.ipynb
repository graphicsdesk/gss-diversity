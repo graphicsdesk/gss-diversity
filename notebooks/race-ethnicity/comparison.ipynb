{
 "cells": [
  {
   "cell_type": "markdown",
   "metadata": {},
   "source": [
    "# Guiding questions\n",
    "\n",
    "How does graduate student gender diversity at Columbia compare to its peer institutions?"
   ]
  },
  {
   "cell_type": "code",
   "execution_count": 1,
   "metadata": {},
   "outputs": [],
   "source": [
    "from collections import defaultdict\n",
    "import math\n",
    "import pickle\n",
    "import pandas as pd\n",
    "import numpy as np\n",
    "import matplotlib.pyplot as plt"
   ]
  },
  {
   "cell_type": "code",
   "execution_count": 2,
   "metadata": {},
   "outputs": [],
   "source": [
    "# https://stackoverflow.com/questions/19798112/convert-pandas-dataframe-to-a-nested-dict\n",
    "def recur_dictify(frame):\n",
    "    if len(frame.columns) == 1:\n",
    "        if frame.values.size == 1: return frame.values[0][0]\n",
    "        return frame.values.squeeze()\n",
    "    grouped = frame.groupby(frame.columns[0])\n",
    "    d = {k: recur_dictify(g.ix[:,1:]) for k,g in grouped}\n",
    "    return d\n",
    "\n",
    "def get_dataframe():\n",
    "    df = pd.read_csv(\n",
    "        '../../data/GSS_Export_Broad_Sex_RaceEthnicity.csv', \n",
    "        thousands=',',\n",
    "        header=4, # starting at 4th row\n",
    "        skipfooter=4, # ignore last 4 lines of data (footer)\n",
    "        engine='python', # default pandas engine does not support skipfooter\n",
    "        index_col=False, # don't use first column (year) as dataframe index\n",
    "        names = ['Year', 'Institution Name', 'Broad Fields', 'Sex', 'Race and Ethnicity', 'Total']\n",
    "    )\n",
    "\n",
    "    # Delete some aggregate values we don't need for this analysis\n",
    "    df = df[ df['Institution Name'] != 'Total for selected values' ]\n",
    "    df = df[ df['Broad Fields'] != 'Total for selected values' ]\n",
    "\n",
    "    # Rename all instances of 'Columbia Univ in the City of New York'\n",
    "    # to 'Columbia University in the City of New York'\n",
    "    df['Institution Name'] = df['Institution Name'].str.replace(\n",
    "        'Columbia Univ in the City of New York', \n",
    "        'Columbia University in the City of New York'\n",
    "    )    \n",
    "    return df\n",
    "\n",
    "try:\n",
    "    TOTALS = pickle.load( open('../../data/GSS_Export_Broad_Sex_RaceEthnicity.p', 'rb') )\n",
    "except FileNotFoundError:\n",
    "    TOTALS = recur_dictify( get_dataframe() )\n",
    "    with open('../../data/GSS_Export_Broad_Sex_RaceEthnicity.p', 'wb') as f:\n",
    "        pickle.dump(totals, f)"
   ]
  },
  {
   "cell_type": "code",
   "execution_count": 3,
   "metadata": {},
   "outputs": [
    {
     "name": "stdout",
     "output_type": "stream",
     "text": [
      "Data set describes years 1994 - 2016 for the following institutions: ['Brown University', 'Columbia University in the City of New York', 'Cornell University', 'Dartmouth College', 'Duke University', 'Harvard University', 'Massachusetts Institute of Technology', 'Princeton University', 'Stanford University', 'University of Pennsylvania', 'Yale University'].\n"
     ]
    }
   ],
   "source": [
    "years = sorted(TOTALS.keys())\n",
    "institutions = sorted(TOTALS[ max(years) ].keys())\n",
    "fields = sorted(TOTALS[ max(years) ]['Columbia University in the City of New York'].keys())\n",
    "\n",
    "print(f'Data set describes years {min(years)} - {max(years)} for the following institutions: {institutions}.')"
   ]
  },
  {
   "cell_type": "code",
   "execution_count": null,
   "metadata": {},
   "outputs": [],
   "source": [
    "# Convenient function for making subplots for every institution\n",
    "def subplots(num=len(institutions)):\n",
    "    cols = 2\n",
    "    rows = math.ceil(num / 2)\n",
    "    return plt.subplots(rows, cols, figsize=(7 * cols, 7 * rows))\n",
    "\n",
    "def compare_field_subplots(field):\n",
    "    fig, axArr = subplots()\n",
    "    for i, inst in enumerate(institutions):\n",
    "        ax = axArr[i // 2, i % 2]\n",
    "        plot_field(ax, inst, field)\n",
    "    fig.suptitle(f'{field}')\n",
    "    fig.tight_layout()\n",
    "    \n",
    "# Plots the proportion stackplot of a field\n",
    "def stack_proportions(ax, field, exclude=None):\n",
    "    stacks = {r: [] for r in race_ethnicities if r != exclude}\n",
    "    \n",
    "    # Calculate each field's proportions over the years\n",
    "    for year in years:\n",
    "        field_counts = TOTALS[year][inst][field]\n",
    "        total = field_counts['Total for selected values'] - field_counts.get(exclude, 0)\n",
    "        for r in race_ethnicities:\n",
    "            if r != exclude:\n",
    "                stacks[r].append(field_counts.get(r, 0) / total)\n",
    "\n",
    "    ax.stackplot(years, stacks.values(), labels=stacks.keys())\n",
    "\n",
    "    ax.set_title(field)\n",
    "    ax.set_xlabel('Year')\n",
    "    \n",
    "    # Format y tick labels to be percentages\n",
    "    vals = ax.get_yticks()\n",
    "    ax.set_yticklabels(['{:,.0%}'.format(x) for x in vals])"
   ]
  }
 ],
 "metadata": {
  "kernelspec": {
   "display_name": "Python 3",
   "language": "python",
   "name": "python3"
  },
  "language_info": {
   "codemirror_mode": {
    "name": "ipython",
    "version": 3
   },
   "file_extension": ".py",
   "mimetype": "text/x-python",
   "name": "python",
   "nbconvert_exporter": "python",
   "pygments_lexer": "ipython3",
   "version": "3.7.0"
  }
 },
 "nbformat": 4,
 "nbformat_minor": 2
}

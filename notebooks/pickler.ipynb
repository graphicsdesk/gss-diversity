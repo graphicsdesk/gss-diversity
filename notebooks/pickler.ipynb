{
 "cells": [
  {
   "cell_type": "markdown",
   "metadata": {},
   "source": [
    "Converts the master CSV (breaks down years by institution, sex, and race/ethnicity for grad students and postdoctorates) into two tree-based dictionaries: one for grad students and one for postdocs. Each dictionary is pickled."
   ]
  },
  {
   "cell_type": "code",
   "execution_count": 1,
   "metadata": {},
   "outputs": [],
   "source": [
    "import pickle\n",
    "import pandas as pd"
   ]
  },
  {
   "cell_type": "code",
   "execution_count": 33,
   "metadata": {},
   "outputs": [],
   "source": [
    "# Converts a dataframe into a nested dictionary\n",
    "# https://stackoverflow.com/questions/19798112/convert-pandas-dataframe-to-a-nested-dict\n",
    "def recur_dictify(frame):\n",
    "    if len(frame.columns) == 1:\n",
    "        if frame.values.size == 1: return frame.values[0][0]\n",
    "        return frame.values.squeeze()\n",
    "    grouped = frame.groupby(frame.columns[0])\n",
    "    d = {k: recur_dictify(g.ix[:,1:]) for k,g in grouped}\n",
    "    return d"
   ]
  },
  {
   "cell_type": "code",
   "execution_count": 46,
   "metadata": {},
   "outputs": [],
   "source": [
    "def pickle_general():\n",
    "    df = pd.read_csv(\n",
    "        f'../data/Sex.csv', \n",
    "        thousands=',',\n",
    "        header=6, # starting at 6th row\n",
    "        skipfooter=6, # ignore last 4 lines of data (footer)\n",
    "        engine='python', # default pandas engine does not support skipfooter\n",
    "        index_col=False, # don't use first column (year) as dataframe index\n",
    "        names = ['Year', 'Institution Name', 'Sex', 'Postdoctorates', 'Graduate Students']\n",
    "    )\n",
    "\n",
    "    # Delete some aggregate values we don't need for this analysis\n",
    "    df = df[ df['Institution Name'] != 'Total for selected values' ]\n",
    "\n",
    "    # Rename all instances of 'Columbia Univ in the City of New York'\n",
    "    # to 'Columbia University in the City of New York'\n",
    "    df['Institution Name'] = df['Institution Name'].str.replace(\n",
    "        'Columbia Univ in the City of New York', \n",
    "        'Columbia University in the City of New York'\n",
    "    )\n",
    "\n",
    "    with open(f'../data/Sex_Postdoctorates.p', 'wb') as f:\n",
    "        postdocs = df.drop('Graduate Students', 1)\n",
    "        pickle.dump(recur_dictify(postdocs), f)\n",
    "\n",
    "    with open(f'../data/Sex_Graduates.p', 'wb') as f:\n",
    "        grads = df.drop('Postdoctorates', 1)\n",
    "        pickle.dump(recur_dictify(grads), f)"
   ]
  },
  {
   "cell_type": "code",
   "execution_count": null,
   "metadata": {},
   "outputs": [
    {
     "name": "stderr",
     "output_type": "stream",
     "text": [
      "/Users/jasonkao/.local/share/virtualenvs/international-students-qEUJUUUW/lib/python3.7/site-packages/ipykernel_launcher.py:8: DeprecationWarning: \n",
      ".ix is deprecated. Please use\n",
      ".loc for label based indexing or\n",
      ".iloc for positional indexing\n",
      "\n",
      "See the documentation here:\n",
      "http://pandas.pydata.org/pandas-docs/stable/indexing.html#ix-indexer-is-deprecated\n",
      "  \n"
     ]
    }
   ],
   "source": [
    "pickle_general()"
   ]
  },
  {
   "cell_type": "code",
   "execution_count": 40,
   "metadata": {},
   "outputs": [],
   "source": [
    "def pickle_data(scope):\n",
    "    df = pd.read_csv(\n",
    "        f'../data/{scope}_Sex_RaceEthnicity.csv', \n",
    "        thousands=',',\n",
    "        header=6, # starting at 6th row\n",
    "        skipfooter=6, # ignore last 4 lines of data (footer)\n",
    "        engine='python', # default pandas engine does not support skipfooter\n",
    "        index_col=False, # don't use first column (year) as dataframe index\n",
    "        names = ['Year', 'Institution Name', f'{scope} Fields', 'Sex', 'Race and Ethnicity', 'Postdoctorates', 'Graduate Students']\n",
    "    )\n",
    "\n",
    "    # Delete some aggregate values we don't need for this analysis\n",
    "    df = df[ df['Institution Name'] != 'Total for selected values' ]\n",
    "    df = df[ df[f'{scope} Fields'] != 'Total for selected values' ]\n",
    "\n",
    "    # Rename all instances of 'Columbia Univ in the City of New York'\n",
    "    # to 'Columbia University in the City of New York'\n",
    "    df['Institution Name'] = df['Institution Name'].str.replace(\n",
    "        'Columbia Univ in the City of New York', \n",
    "        'Columbia University in the City of New York'\n",
    "    )\n",
    "\n",
    "    # Pickle a postdocs dataframe\n",
    "    with open(f'../data/{scope}_Sex_RaceEthnicity_Postdoctorates.p', 'wb') as f:\n",
    "        postdocs = df.drop('Graduate Students', 1)\n",
    "        postdocs = postdocs[postdocs['Postdoctorates'] > 0]\n",
    "        pickle.dump(recur_dictify(postdocs), f)\n",
    "    # Pickle a graduate students dataframe\n",
    "    with open(f'../data/{scope}_Sex_RaceEthnicity_Graduates.p', 'wb') as f:\n",
    "        grads = df.drop('Postdoctorates', 1)\n",
    "        grads = grads[grads['Graduate Students'] > 0]\n",
    "        pickle.dump(recur_dictify(grads), f)"
   ]
  },
  {
   "cell_type": "code",
   "execution_count": 55,
   "metadata": {},
   "outputs": [
    {
     "name": "stderr",
     "output_type": "stream",
     "text": [
      "/Users/jasonkao/.local/share/virtualenvs/international-students-qEUJUUUW/lib/python3.7/site-packages/ipykernel_launcher.py:8: DeprecationWarning: \n",
      ".ix is deprecated. Please use\n",
      ".loc for label based indexing or\n",
      ".iloc for positional indexing\n",
      "\n",
      "See the documentation here:\n",
      "http://pandas.pydata.org/pandas-docs/stable/indexing.html#ix-indexer-is-deprecated\n",
      "  \n"
     ]
    }
   ],
   "source": [
    "pickle_scope('Broad')"
   ]
  },
  {
   "cell_type": "code",
   "execution_count": 56,
   "metadata": {},
   "outputs": [
    {
     "name": "stderr",
     "output_type": "stream",
     "text": [
      "/Users/jasonkao/.local/share/virtualenvs/international-students-qEUJUUUW/lib/python3.7/site-packages/ipykernel_launcher.py:8: DeprecationWarning: \n",
      ".ix is deprecated. Please use\n",
      ".loc for label based indexing or\n",
      ".iloc for positional indexing\n",
      "\n",
      "See the documentation here:\n",
      "http://pandas.pydata.org/pandas-docs/stable/indexing.html#ix-indexer-is-deprecated\n",
      "  \n"
     ]
    }
   ],
   "source": [
    "pickle_scope('Detailed')"
   ]
  }
 ],
 "metadata": {
  "kernelspec": {
   "display_name": "Python 3",
   "language": "python",
   "name": "python3"
  },
  "language_info": {
   "codemirror_mode": {
    "name": "ipython",
    "version": 3
   },
   "file_extension": ".py",
   "mimetype": "text/x-python",
   "name": "python",
   "nbconvert_exporter": "python",
   "pygments_lexer": "ipython3",
   "version": "3.7.0"
  }
 },
 "nbformat": 4,
 "nbformat_minor": 2
}

{
 "cells": [
  {
   "cell_type": "markdown",
   "metadata": {},
   "source": [
    "Converts the master CSV (breaks down years by institution, sex, and race/ethnicity for grad students and postdoctorates) into two tree-based dictionaries: one for grad students and one for postdocs. Each dictionary is pickled."
   ]
  },
  {
   "cell_type": "code",
   "execution_count": 1,
   "metadata": {},
   "outputs": [],
   "source": [
    "import pickle\n",
    "import pandas as pd"
   ]
  },
  {
   "cell_type": "code",
   "execution_count": 2,
   "metadata": {},
   "outputs": [],
   "source": [
    "# Converts a dataframe into a nested dictionary\n",
    "# https://stackoverflow.com/questions/19798112/convert-pandas-dataframe-to-a-nested-dict\n",
    "def recur_dictify(frame):\n",
    "    if len(frame.columns) == 1:\n",
    "        if frame.values.size == 1: return frame.values[0][0]\n",
    "        return frame.values.squeeze()\n",
    "    grouped = frame.groupby(frame.columns[0])\n",
    "    d = {k: recur_dictify(g.ix[:,1:]) for k,g in grouped}\n",
    "    return d"
   ]
  },
  {
   "cell_type": "code",
   "execution_count": 45,
   "metadata": {},
   "outputs": [
    {
     "data": {
      "text/html": [
       "<div>\n",
       "<style scoped>\n",
       "    .dataframe tbody tr th:only-of-type {\n",
       "        vertical-align: middle;\n",
       "    }\n",
       "\n",
       "    .dataframe tbody tr th {\n",
       "        vertical-align: top;\n",
       "    }\n",
       "\n",
       "    .dataframe thead th {\n",
       "        text-align: right;\n",
       "    }\n",
       "</style>\n",
       "<table border=\"1\" class=\"dataframe\">\n",
       "  <thead>\n",
       "    <tr style=\"text-align: right;\">\n",
       "      <th></th>\n",
       "      <th>Year</th>\n",
       "      <th>Institution Name</th>\n",
       "      <th>Detailed Fields</th>\n",
       "      <th>Sex</th>\n",
       "      <th>Race and Ethnicity</th>\n",
       "      <th>Postdoctorates</th>\n",
       "      <th>Graduate Students</th>\n",
       "    </tr>\n",
       "  </thead>\n",
       "  <tbody>\n",
       "    <tr>\n",
       "      <th>105540</th>\n",
       "      <td>1994</td>\n",
       "      <td>Yale University</td>\n",
       "      <td>Surgery</td>\n",
       "      <td>Female</td>\n",
       "      <td>Ethnicity/race not collected for 2009 and prior</td>\n",
       "      <td>4</td>\n",
       "      <td>0</td>\n",
       "    </tr>\n",
       "    <tr>\n",
       "      <th>105541</th>\n",
       "      <td>1994</td>\n",
       "      <td>Yale University</td>\n",
       "      <td>Surgery</td>\n",
       "      <td>Female</td>\n",
       "      <td>Foreign nationals holding temporary visas, reg...</td>\n",
       "      <td>5</td>\n",
       "      <td>0</td>\n",
       "    </tr>\n",
       "    <tr>\n",
       "      <th>105542</th>\n",
       "      <td>1994</td>\n",
       "      <td>Yale University</td>\n",
       "      <td>Surgery</td>\n",
       "      <td>Male</td>\n",
       "      <td>Total for selected values</td>\n",
       "      <td>41</td>\n",
       "      <td>0</td>\n",
       "    </tr>\n",
       "    <tr>\n",
       "      <th>105543</th>\n",
       "      <td>1994</td>\n",
       "      <td>Yale University</td>\n",
       "      <td>Surgery</td>\n",
       "      <td>Male</td>\n",
       "      <td>Ethnicity/race not collected for 2009 and prior</td>\n",
       "      <td>7</td>\n",
       "      <td>0</td>\n",
       "    </tr>\n",
       "    <tr>\n",
       "      <th>105544</th>\n",
       "      <td>1994</td>\n",
       "      <td>Yale University</td>\n",
       "      <td>Surgery</td>\n",
       "      <td>Male</td>\n",
       "      <td>Foreign nationals holding temporary visas, reg...</td>\n",
       "      <td>34</td>\n",
       "      <td>0</td>\n",
       "    </tr>\n",
       "  </tbody>\n",
       "</table>\n",
       "</div>"
      ],
      "text/plain": [
       "        Year Institution Name Detailed Fields     Sex  \\\n",
       "105540  1994  Yale University         Surgery  Female   \n",
       "105541  1994  Yale University         Surgery  Female   \n",
       "105542  1994  Yale University         Surgery    Male   \n",
       "105543  1994  Yale University         Surgery    Male   \n",
       "105544  1994  Yale University         Surgery    Male   \n",
       "\n",
       "                                       Race and Ethnicity  Postdoctorates  \\\n",
       "105540    Ethnicity/race not collected for 2009 and prior               4   \n",
       "105541  Foreign nationals holding temporary visas, reg...               5   \n",
       "105542                          Total for selected values              41   \n",
       "105543    Ethnicity/race not collected for 2009 and prior               7   \n",
       "105544  Foreign nationals holding temporary visas, reg...              34   \n",
       "\n",
       "        Graduate Students  \n",
       "105540                  0  \n",
       "105541                  0  \n",
       "105542                  0  \n",
       "105543                  0  \n",
       "105544                  0  "
      ]
     },
     "execution_count": 45,
     "metadata": {},
     "output_type": "execute_result"
    }
   ],
   "source": [
    "df = pd.read_csv(\n",
    "    '../data/Detailed_Sex_RaceEthnicity.csv', \n",
    "    thousands=',',\n",
    "    header=6, # starting at 6th row\n",
    "    skipfooter=6, # ignore last 4 lines of data (footer)\n",
    "    engine='python', # default pandas engine does not support skipfooter\n",
    "    index_col=False, # don't use first column (year) as dataframe index\n",
    "    names = ['Year', 'Institution Name', 'Detailed Fields', 'Sex', 'Race and Ethnicity', 'Postdoctorates', 'Graduate Students']\n",
    ")\n",
    "\n",
    "df['Postdoctorates'] = pd.to_numeric(df['Postdoctorates'])\n",
    "\n",
    "# Delete some aggregate values we don't need for this analysis\n",
    "df = df[ df['Institution Name'] != 'Total for selected values' ]\n",
    "df = df[ df['Detailed Fields'] != 'Total for selected values' ]\n",
    "\n",
    "# Rename all instances of 'Columbia Univ in the City of New York'\n",
    "# to 'Columbia University in the City of New York'\n",
    "df['Institution Name'] = df['Institution Name'].str.replace(\n",
    "    'Columbia Univ in the City of New York', \n",
    "    'Columbia University in the City of New York'\n",
    ")\n",
    "\n",
    "df.tail()"
   ]
  },
  {
   "cell_type": "code",
   "execution_count": null,
   "metadata": {},
   "outputs": [
    {
     "name": "stderr",
     "output_type": "stream",
     "text": [
      "/Users/jasonkao/.local/share/virtualenvs/international-students-qEUJUUUW/lib/python3.7/site-packages/ipykernel_launcher.py:8: DeprecationWarning: \n",
      ".ix is deprecated. Please use\n",
      ".loc for label based indexing or\n",
      ".iloc for positional indexing\n",
      "\n",
      "See the documentation here:\n",
      "http://pandas.pydata.org/pandas-docs/stable/indexing.html#ix-indexer-is-deprecated\n",
      "  \n"
     ]
    }
   ],
   "source": [
    "postdocs = df.drop('Graduate Students', 1)\n",
    "postdocs = postdocs[postdocs['Postdoctorates'] > 0]\n",
    "\n",
    "with open('../data/Detailed_Sex_RaceEthnicity_Postdoctorates.p', 'wb') as f:\n",
    "    pickle.dump(recur_dictify(postdocs), f)"
   ]
  },
  {
   "cell_type": "code",
   "execution_count": null,
   "metadata": {},
   "outputs": [],
   "source": [
    "grads = df.drop('Postdoctorates', 1)\n",
    "grads = grads[grads['Graduate Students'] > 0]\n",
    "\n",
    "with open('../data/Detailed_Sex_RaceEthnicity_Graduates.p', 'wb') as f:\n",
    "    pickle.dump(recur_dictify(grads), f)"
   ]
  }
 ],
 "metadata": {
  "kernelspec": {
   "display_name": "Python 3",
   "language": "python",
   "name": "python3"
  },
  "language_info": {
   "codemirror_mode": {
    "name": "ipython",
    "version": 3
   },
   "file_extension": ".py",
   "mimetype": "text/x-python",
   "name": "python",
   "nbconvert_exporter": "python",
   "pygments_lexer": "ipython3",
   "version": "3.7.0"
  }
 },
 "nbformat": 4,
 "nbformat_minor": 2
}

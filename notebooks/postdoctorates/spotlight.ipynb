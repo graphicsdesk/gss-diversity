{
 "cells": [
  {
   "cell_type": "markdown",
   "metadata": {},
   "source": [
    "Looking at race distributions within fields with low gender diversity among postdoctorates."
   ]
  },
  {
   "cell_type": "code",
   "execution_count": 4,
   "metadata": {},
   "outputs": [],
   "source": [
    "from collections import defaultdict\n",
    "import math\n",
    "import pickle\n",
    "import pandas as pd\n",
    "import numpy as np\n",
    "import matplotlib.pyplot as plt"
   ]
  },
  {
   "cell_type": "code",
   "execution_count": 5,
   "metadata": {},
   "outputs": [
    {
     "name": "stdout",
     "output_type": "stream",
     "text": [
      "Data set describes years 1994 - 2016 for the following institutions: ['Brown University', 'Columbia University in the City of New York', 'Cornell University', 'Dartmouth College', 'Duke University', 'Harvard University', 'Massachusetts Institute of Technology', 'Princeton University', 'Stanford University', 'University of Pennsylvania', 'Yale University'].\n"
     ]
    }
   ],
   "source": [
    "TOTALS = pickle.load(open('../../data/Detailed_Sex_RaceEthnicity_Postdoctorates.p', 'rb'))\n",
    "\n",
    "years = sorted(TOTALS.keys())\n",
    "institutions = sorted(TOTALS[ max(years) ].keys())\n",
    "fields = sorted(TOTALS[ max(years) ]['Columbia University in the City of New York'].keys())\n",
    "race_ethnicities = sorted(TOTALS[ max(years) ]['Columbia University in the City of New York'][ fields[0] ]['Female'].keys())\n",
    "race_ethnicities.remove('Total for selected values')\n",
    "\n",
    "print(f'Data set describes years {min(years)} - {max(years)} for the following institutions: {institutions}.')"
   ]
  },
  {
   "cell_type": "code",
   "execution_count": 6,
   "metadata": {},
   "outputs": [],
   "source": [
    "def subplots(num=len(institutions), sharey=False):\n",
    "    cols = 2\n",
    "    rows = math.ceil(num / 2)\n",
    "    return plt.subplots(rows, cols, figsize=(10 * cols, 10 * rows), sharey=sharey)\n",
    "\n",
    "def stack_field_races(ax, field, sex='Total for selected values'):\n",
    "    stacks = {r: [] for r in race_ethnicities}\n",
    "\n",
    "    for year in years:\n",
    "        try:\n",
    "            field_stats = TOTALS[year]['Columbia University in the City of New York'][field]\n",
    "        except KeyError:\n",
    "            [stacks[r].append(0) for r in race_ethnicities]\n",
    "            continue\n",
    "        for r in race_ethnicities:\n",
    "            if sex == 'Total for selected values':\n",
    "                prop = field_stats['Female'].get(r, 0) + field_stats['Male'].get(r, 0) # / field_stats['Total for selected values']['Total for selected values']\n",
    "            else:\n",
    "                prop = field_stats[sex].get(r, 0) # / field_stats[sex]['Total for selected values']\n",
    "            stacks[r].append(prop)\n",
    "    \n",
    "    ax.stackplot(years, stacks.values(), labels=stacks.keys())\n",
    "    \n",
    "    ax.set_title(field + ', ' + sex)\n",
    "    ax.set_xlabel('Year')\n",
    "    ax.legend(loc='lower left')\n",
    "\n",
    "    # Format y tick labels to be percentages\n",
    "    # vals = ax.get_yticks()\n",
    "    # ax.set_yticklabels(['{:,.0%}'.format(x) for x in vals])"
   ]
  },
  {
   "cell_type": "code",
   "execution_count": 7,
   "metadata": {
    "scrolled": false
   },
   "outputs": [
    {
     "data": {
      "text/plain": [
       "<Figure size 1440x0 with 0 Axes>"
      ]
     },
     "metadata": {},
     "output_type": "display_data"
    }
   ],
   "source": [
    "selected_fields = []\n",
    "\n",
    "fig, ax = subplots(num=len(selected_fields) * 2, sharey='row')\n",
    "for i, field in enumerate(selected_fields):\n",
    "    stack_field_races(ax[i, 0], field, sex='Female')\n",
    "    stack_field_races(ax[i, 1], field, sex='Male')\n",
    "fig.tight_layout()"
   ]
  }
 ],
 "metadata": {
  "kernelspec": {
   "display_name": "Python 3",
   "language": "python",
   "name": "python3"
  },
  "language_info": {
   "codemirror_mode": {
    "name": "ipython",
    "version": 3
   },
   "file_extension": ".py",
   "mimetype": "text/x-python",
   "name": "python",
   "nbconvert_exporter": "python",
   "pygments_lexer": "ipython3",
   "version": "3.7.0"
  }
 },
 "nbformat": 4,
 "nbformat_minor": 2
}

{
 "cells": [
  {
   "cell_type": "markdown",
   "metadata": {},
   "source": [
    "# Guiding questions\n",
    "\n",
    "How does graduate student gender diversity at Columbia compare to its peer institutions?"
   ]
  },
  {
   "cell_type": "code",
   "execution_count": 1,
   "metadata": {},
   "outputs": [],
   "source": [
    "from collections import defaultdict\n",
    "import math\n",
    "import pickle\n",
    "import pandas as pd\n",
    "import numpy as np\n",
    "import matplotlib.pyplot as plt"
   ]
  },
  {
   "cell_type": "code",
   "execution_count": 8,
   "metadata": {},
   "outputs": [],
   "source": [
    "# https://stackoverflow.com/questions/19798112/convert-pandas-dataframe-to-a-nested-dict\n",
    "def recur_dictify(frame):\n",
    "    if len(frame.columns) == 1:\n",
    "        if frame.values.size == 1: return frame.values[0][0]\n",
    "        return frame.values.squeeze()\n",
    "    grouped = frame.groupby(frame.columns[0])\n",
    "    d = {k: recur_dictify(g.ix[:,1:]) for k,g in grouped}\n",
    "    return d\n",
    "\n",
    "def get_dataframe():\n",
    "    df = pd.read_csv(\n",
    "        '../../data/GSS_Export_Broad_Sex_RaceEthnicity.csv', \n",
    "        thousands=',',\n",
    "        header=4, # starting at 4th row\n",
    "        skipfooter=4, # ignore last 4 lines of data (footer)\n",
    "        engine='python', # default pandas engine does not support skipfooter\n",
    "        index_col=False, # don't use first column (year) as dataframe index\n",
    "        names = ['Year', 'Institution Name', 'Broad Fields', 'Sex', 'Race and Ethnicity', 'Total']\n",
    "    )\n",
    "\n",
    "    # Delete some aggregate values we don't need for this analysis\n",
    "    df = df[ df['Institution Name'] != 'Total for selected values' ]\n",
    "    df = df[ df['Broad Fields'] != 'Total for selected values' ]\n",
    "\n",
    "    # Rename all instances of 'Columbia Univ in the City of New York'\n",
    "    # to 'Columbia University in the City of New York'\n",
    "    df['Institution Name'] = df['Institution Name'].str.replace(\n",
    "        'Columbia Univ in the City of New York', \n",
    "        'Columbia University in the City of New York'\n",
    "    )    \n",
    "    return df"
   ]
  },
  {
   "cell_type": "code",
   "execution_count": 24,
   "metadata": {},
   "outputs": [],
   "source": [
    "try:\n",
    "    TOTALS = pickle.load( open('../../data/GSS_Export_Broad_Sex_RaceEthnicity.p', 'rb') )\n",
    "except FileNotFoundError:\n",
    "    TOTALS = recur_dictify( get_dataframe() )\n",
    "    with open('../../data/GSS_Export_Broad_Sex_RaceEthnicity.p', 'wb') as f:\n",
    "        pickle.dump(totals, f)"
   ]
  },
  {
   "cell_type": "code",
   "execution_count": 101,
   "metadata": {},
   "outputs": [
    {
     "name": "stdout",
     "output_type": "stream",
     "text": [
      "Data set describes years 1994 - 2016 for the following institutions: ['Brown University', 'Columbia University in the City of New York', 'Cornell University', 'Dartmouth College', 'Duke University', 'Harvard University', 'Massachusetts Institute of Technology', 'Princeton University', 'Stanford University', 'University of Pennsylvania', 'Yale University'].\n"
     ]
    }
   ],
   "source": [
    "years = sorted(TOTALS.keys())\n",
    "institutions = sorted(TOTALS[ max(years) ].keys())\n",
    "fields = sorted(TOTALS[ max(years) ]['Columbia University in the City of New York'].keys())\n",
    "\n",
    "print(f'Data set describes years {min(years)} - {max(years)} for the following institutions: {institutions}.')"
   ]
  },
  {
   "cell_type": "code",
   "execution_count": 111,
   "metadata": {},
   "outputs": [],
   "source": [
    "# Convenient function for making subplots for every institution\n",
    "def subplots():\n",
    "    cols = 2\n",
    "    rows = math.ceil(len(institutions) / 2)\n",
    "    return plt.subplots(rows, cols, figsize=(7 * cols, 7 * rows))\n",
    "\n",
    "def compare_by_field(field):\n",
    "    fig, axArr = subplots()\n",
    "    for i, inst in enumerate(institutions):\n",
    "        ax = axArr[i // 2, i % 2]\n",
    "        plot_field(ax, inst, field)\n",
    "    fig.suptitle(f'{field}')\n",
    "    fig.tight_layout()"
   ]
  },
  {
   "cell_type": "code",
   "execution_count": 112,
   "metadata": {},
   "outputs": [],
   "source": [
    "def plot_field(ax, inst, field):\n",
    "    proportions = []\n",
    "    for year in years:\n",
    "        field_stats = TOTALS[year][inst].get(field, None)\n",
    "        if field_stats is None:\n",
    "            proportions.append(None)\n",
    "        else:\n",
    "            proportions.append(\n",
    "                field_stats['Female']['Total for selected values'] /\n",
    "                    field_stats['Total for selected values']['Total for selected values']\n",
    "            )\n",
    "    ax.set_title(inst)\n",
    "    ax.set_ylim(top=1, bottom=0)\n",
    "    ax.set_xlim(left=min(years), right=max(years))\n",
    "    ax.plot(years, proportions)"
   ]
  },
  {
   "cell_type": "code",
   "execution_count": null,
   "metadata": {
    "scrolled": false
   },
   "outputs": [],
   "source": [
    "compare_by_field('Computer sciences')"
   ]
  }
 ],
 "metadata": {
  "kernelspec": {
   "display_name": "Python 3",
   "language": "python",
   "name": "python3"
  },
  "language_info": {
   "codemirror_mode": {
    "name": "ipython",
    "version": 3
   },
   "file_extension": ".py",
   "mimetype": "text/x-python",
   "name": "python",
   "nbconvert_exporter": "python",
   "pygments_lexer": "ipython3",
   "version": "3.7.0"
  }
 },
 "nbformat": 4,
 "nbformat_minor": 2
}
